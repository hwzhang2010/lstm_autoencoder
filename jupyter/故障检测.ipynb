{
 "cells": [
  {
   "cell_type": "code",
   "execution_count": 24,
   "id": "f761de1c",
   "metadata": {},
   "outputs": [],
   "source": [
    "import numpy as np\n",
    "import pandas as pd\n",
    "import matplotlib.pyplot as plt\n",
    "import tensorflow as tf\n",
    "\n",
    "from math import sqrt\n",
    "from sklearn.preprocessing import MinMaxScaler\n",
    "from sklearn.metrics import mean_squared_error\n",
    "from sklearn.metrics import mean_absolute_error"
   ]
  },
  {
   "cell_type": "code",
   "execution_count": 25,
   "id": "bf0c240a",
   "metadata": {},
   "outputs": [],
   "source": [
    "# 时间格式转化\n",
    "def parser(x):\n",
    "    #return pd.to_datetime(x, format='%m/%d/%Y %H:%M:%S')\n",
    "    return pd.to_datetime(x, format='%Y-%m-%d %H:%M:%S')"
   ]
  },
  {
   "cell_type": "code",
   "execution_count": 26,
   "id": "e16ae845",
   "metadata": {},
   "outputs": [],
   "source": [
    "# 将数据转换为监督学习型数据，删掉NaN值\n",
    "def timeseries_to_supervised(data, n_in=1, n_out=1, dropnan=True):\n",
    "    # 获取特征值数量n_vars\n",
    "    n_vars = 1 if type(data) is list else data.shape[1]\n",
    "    df = pd.DataFrame(data)\n",
    "    #print(df)\n",
    "    \n",
    "    cols, names = list(), list()\n",
    "    \n",
    "    # input sequence(t-n, ... , t-1)\n",
    "    # 创建n个v(t-1)作为列名\n",
    "    for i in range(n_in, 0, -1):\n",
    "        # 向列表cols中添加1个df.shift(1)的数据\n",
    "        cols.append(df.shift(i))\n",
    "        #print(cols)\n",
    "        names += [('var%d(t-%d)' % (j+1, i)) for j in range(n_vars)]\n",
    "        \n",
    "    # output sequence (t, t+1, ... , t+n)\n",
    "    for i in range(0, n_out):\n",
    "        # 向列表cols中添加1个df.shift(-1)的数据\n",
    "        cols.append(df.shift(-i))\n",
    "        #print(cols)\n",
    "        if i == 0:\n",
    "            names += [('var%d(t)' % (j+1)) for j in range(n_vars)]\n",
    "        else:\n",
    "            names += [('var%d(t+%d)' % (j+1, i)) for j in range(n_vars)]\n",
    "    #print(cols)\n",
    "    \n",
    "    # 将列表中的两个张量按照列拼接起来，list(v1, v2) -> [v1, v2], 其中v1向下移动了1行，此时v1, v2是监督学习型数据\n",
    "    agg = pd.concat(cols, axis=1)\n",
    "    #print(agg)\n",
    "    \n",
    "    # 重定义列名\n",
    "    agg.columns = names\n",
    "    #print(agg)\n",
    "    \n",
    "    # 删除空值\n",
    "    if dropnan:\n",
    "        agg.dropna(inplace = True)\n",
    "        \n",
    "    return agg"
   ]
  },
  {
   "cell_type": "code",
   "execution_count": 27,
   "id": "98798a6b",
   "metadata": {},
   "outputs": [],
   "source": [
    "# 将数据缩放到[-1,1]之间的数\n",
    "def scale(dataset):\n",
    "    # 创建1个缩放器\n",
    "    scaler = MinMaxScaler(feature_range=(-1,1))\n",
    "    scaler = scaler.fit(dataset)\n",
    "    #print(dataset)\n",
    "    \n",
    "    # 缩放\n",
    "    dataset_scaled = scaler.transform(dataset)\n",
    "    #print(dataset_scaled)\n",
    "    \n",
    "    return scaler, dataset_scaled"
   ]
  },
  {
   "cell_type": "code",
   "execution_count": 28,
   "id": "e1aee83c",
   "metadata": {},
   "outputs": [],
   "source": [
    "# 逆缩放\n",
    "def invert_scale(scaler, yhat, y):\n",
    "    # 逆缩放输入形状为(n,2), 输出形状为(n,2)\n",
    "    inverted_yhat = scaler.inverse_transform(yhat)\n",
    "    inverted_y = scaler.inverse_transform(y)\n",
    "    \n",
    "    return inverted_yhat, inverted_y"
   ]
  },
  {
   "cell_type": "code",
   "execution_count": 29,
   "id": "a7caae95",
   "metadata": {},
   "outputs": [],
   "source": [
    "# 数据拆分：拆分为训练集，测试集\n",
    "def split_dataset(dataset, seq_len = 100):\n",
    "    # 数据集长度\n",
    "    length = len(dataset)\n",
    "    \n",
    "    # 初始训练集索引为空列表\n",
    "    index_train = []\n",
    "    # 初始测试集索引为空列表\n",
    "    index_test = []\n",
    "    \n",
    "    for i in range(length):\n",
    "        if (i % seq_len < seq_len - 30):\n",
    "            index_train.append(i)\n",
    "        else:\n",
    "            index_test.append(i)\n",
    "    \n",
    "    \n",
    "    \n",
    "    # 前70%个作为训练集\n",
    "    #train = [dataset[index] for index in index_train]\n",
    "    train = np.array(dataset)[index_train]\n",
    "    # 后30%个作为测试集\n",
    "    #test = [dataset[index] for index in index_test]\n",
    "    test = np.array(dataset)[index_test]\n",
    "        \n",
    "    return train, test"
   ]
  },
  {
   "cell_type": "code",
   "execution_count": 8,
   "id": "2a8884a5",
   "metadata": {},
   "outputs": [],
   "source": []
  },
  {
   "cell_type": "code",
   "execution_count": 31,
   "id": "e1d8ae53",
   "metadata": {},
   "outputs": [],
   "source": [
    "# load model from single file\n",
    "adcs_model = tf.keras.models.load_model('./models/lstm_model_adcs.h5')\n",
    "temp_model = tf.keras.models.load_model('./models/lstm_model_temp.h5')\n",
    "elec_model = tf.keras.models.load_model('./models/lstm_model_elec.h5')"
   ]
  },
  {
   "cell_type": "code",
   "execution_count": 57,
   "id": "98c42ba2",
   "metadata": {},
   "outputs": [],
   "source": [
    "# 定义特征个数(用变量表示特征，标签)\n",
    "n_adcs_features = 14\n",
    "n_temp_features = 59 \n",
    "n_elec_features = 41"
   ]
  },
  {
   "cell_type": "code",
   "execution_count": 58,
   "id": "e82768f4",
   "metadata": {},
   "outputs": [],
   "source": [
    "# 加载数据\n",
    "df_0 = pd.read_csv('./dataset/姿控分系统遥测.csv', dtype=object, header=0, index_col=0, parse_dates=[0], squeeze=True, date_parser=parser)\n",
    "raw_0_values = df_0.values\n",
    "#df.tail(), raw_values"
   ]
  },
  {
   "cell_type": "code",
   "execution_count": 59,
   "id": "18e20d85",
   "metadata": {},
   "outputs": [
    {
     "data": {
      "text/plain": [
       "((5722, 14), (2430, 14))"
      ]
     },
     "execution_count": 59,
     "metadata": {},
     "output_type": "execute_result"
    }
   ],
   "source": [
    "adcs_x1, adcs_x2 = split_dataset(raw_0_values, seq_len=100)\n",
    "adcs_x1.shape, adcs_x2.shape"
   ]
  },
  {
   "cell_type": "code",
   "execution_count": 60,
   "id": "39eec852",
   "metadata": {},
   "outputs": [],
   "source": [
    "# 将所有数据缩放到[-1, 1]之间\n",
    "adcs_scaler, adcs_scaled_values = scale(adcs_x1)\n",
    "#scaled_values, scaled_values.shape"
   ]
  },
  {
   "cell_type": "code",
   "execution_count": null,
   "id": "033e67af",
   "metadata": {},
   "outputs": [],
   "source": []
  },
  {
   "cell_type": "code",
   "execution_count": 61,
   "id": "db37d4f1",
   "metadata": {},
   "outputs": [],
   "source": [
    "# 加载数据\n",
    "df_adcs = pd.read_csv('./dataset/姿控分系统遥测-测试.csv', dtype=object, header=0, index_col=0, parse_dates=[0], squeeze=True, date_parser=parser)\n",
    "adcs_values = df_adcs.values"
   ]
  },
  {
   "cell_type": "code",
   "execution_count": 62,
   "id": "91686b1c",
   "metadata": {},
   "outputs": [
    {
     "data": {
      "text/plain": [
       "(array([[ 0.9760707 ,  0.16970391, -0.10532806, ...,  0.22157406,\n",
       "          0.12362335,  0.63751081],\n",
       "        [ 0.9760707 ,  0.16970391, -0.10532806, ...,  0.22157406,\n",
       "          0.12362335,  0.63751081],\n",
       "        [ 0.9760707 ,  0.169684  , -0.10532806, ...,  0.22157406,\n",
       "          0.12362335,  0.63751081],\n",
       "        ...,\n",
       "        [ 0.98942659,  0.1561682 , -0.15915549, ...,  0.22159857,\n",
       "          0.12334802,  0.63761258],\n",
       "        [ 0.98942659,  0.1561483 , -0.15915549, ...,  0.22159857,\n",
       "          0.12334802,  0.63761258],\n",
       "        [ 0.98942659,  0.1561682 , -0.15915549, ...,  0.22159857,\n",
       "          0.12334802,  0.63761258]]),\n",
       " (2430, 14))"
      ]
     },
     "execution_count": 62,
     "metadata": {},
     "output_type": "execute_result"
    }
   ],
   "source": [
    "# 将所有数据缩放到[-1, 1]之间\n",
    "adcs_scaled_values = adcs_scaler.transform(adcs_values)\n",
    "adcs_scaled_values, adcs_scaled_values.shape"
   ]
  },
  {
   "cell_type": "code",
   "execution_count": 63,
   "id": "d8d6ab11",
   "metadata": {},
   "outputs": [
    {
     "data": {
      "text/plain": [
       "(array([[ 0.9760707 ,  0.16970391, -0.10532806, ...,  0.22157406,\n",
       "          0.12362335,  0.63751081],\n",
       "        [ 0.9760707 ,  0.16970391, -0.10532806, ...,  0.22157406,\n",
       "          0.12362335,  0.63751081],\n",
       "        [ 0.9760707 ,  0.169684  , -0.10532806, ...,  0.22157406,\n",
       "          0.12362335,  0.63751081],\n",
       "        ...,\n",
       "        [ 0.98942659,  0.1561682 , -0.15915549, ...,  0.22159857,\n",
       "          0.12334802,  0.63761258],\n",
       "        [ 0.98942659,  0.1561483 , -0.15915549, ...,  0.22159857,\n",
       "          0.12334802,  0.63761258],\n",
       "        [ 0.98942659,  0.1561483 , -0.15915549, ...,  0.22159857,\n",
       "          0.12334802,  0.63761258]]),\n",
       " (2426, 70))"
      ]
     },
     "execution_count": 63,
     "metadata": {},
     "output_type": "execute_result"
    }
   ],
   "source": [
    "# 将数据转换为监督学习型数据\n",
    "adcs_supervised = timeseries_to_supervised(adcs_scaled_values, 4, 1)\n",
    "adcs_supervised_values = adcs_supervised.values\n",
    "adcs_supervised_values, adcs_supervised_values.shape"
   ]
  },
  {
   "cell_type": "code",
   "execution_count": 64,
   "id": "25c20e78",
   "metadata": {},
   "outputs": [
    {
     "data": {
      "text/plain": [
       "((2426, 56), (2426, 14))"
      ]
     },
     "execution_count": 64,
     "metadata": {},
     "output_type": "execute_result"
    }
   ],
   "source": [
    "# 目标值和特征值\n",
    "adcs_X, adcs_y = adcs_supervised_values[:, :4*n_adcs_features], adcs_supervised_values[:, 4*n_adcs_features:]\n",
    "adcs_X.shape, adcs_y.shape"
   ]
  },
  {
   "cell_type": "code",
   "execution_count": 65,
   "id": "e6772b59",
   "metadata": {},
   "outputs": [
    {
     "data": {
      "text/plain": [
       "((2426, 4, 14), (2426, 14))"
      ]
     },
     "execution_count": 65,
     "metadata": {},
     "output_type": "execute_result"
    }
   ],
   "source": [
    "# 将输入数据转换成3维张量[samples, timesteps, features], [1次批量n条数据， 每条数据4个步长，14个特征值]\n",
    "adcs_X = adcs_X.reshape((adcs_X.shape[0], 4, n_adcs_features))\n",
    "adcs_X.shape, adcs_y.shape"
   ]
  },
  {
   "cell_type": "code",
   "execution_count": 66,
   "id": "31a89e98",
   "metadata": {},
   "outputs": [
    {
     "data": {
      "text/plain": [
       "(array([[ 0.9571061 ,  0.15805097, -0.12567198, ...,  0.19620366,\n",
       "          0.11079375,  0.61308604],\n",
       "        [ 0.9571016 ,  0.158053  , -0.1256778 , ...,  0.19620053,\n",
       "          0.11079194,  0.61308396],\n",
       "        [ 0.957101  ,  0.158053  , -0.12567818, ...,  0.19619943,\n",
       "          0.11079125,  0.6130833 ],\n",
       "        ...,\n",
       "        [ 0.99047303,  0.1559927 , -0.15757143, ...,  0.22860233,\n",
       "          0.12058683,  0.6502672 ],\n",
       "        [ 0.9904742 ,  0.15599422, -0.1575711 , ...,  0.22860374,\n",
       "          0.12058495,  0.65026826],\n",
       "        [ 0.990474  ,  0.15599383, -0.15757105, ...,  0.22860245,\n",
       "          0.12058546,  0.65026855]], dtype=float32),\n",
       " array([[[ 0.9760707 ,  0.16970391, -0.10532806, ...,  0.22157406,\n",
       "           0.12362335,  0.63751081],\n",
       "         [ 0.9760707 ,  0.16970391, -0.10532806, ...,  0.22157406,\n",
       "           0.12362335,  0.63751081],\n",
       "         [ 0.9760707 ,  0.169684  , -0.10532806, ...,  0.22157406,\n",
       "           0.12362335,  0.63751081],\n",
       "         [ 0.9760707 ,  0.16970391, -0.10532806, ...,  0.22157406,\n",
       "           0.12362335,  0.63751081]],\n",
       " \n",
       "        [[ 0.9760707 ,  0.16970391, -0.10532806, ...,  0.22157406,\n",
       "           0.12362335,  0.63751081],\n",
       "         [ 0.9760707 ,  0.169684  , -0.10532806, ...,  0.22157406,\n",
       "           0.12362335,  0.63751081],\n",
       "         [ 0.9760707 ,  0.16970391, -0.10532806, ...,  0.22157406,\n",
       "           0.12362335,  0.63751081],\n",
       "         [ 0.9760707 ,  0.16970391, -0.10532806, ...,  0.22157406,\n",
       "           0.12362335,  0.63751081]],\n",
       " \n",
       "        [[ 0.9760707 ,  0.169684  , -0.10532806, ...,  0.22157406,\n",
       "           0.12362335,  0.63751081],\n",
       "         [ 0.9760707 ,  0.16970391, -0.10532806, ...,  0.22157406,\n",
       "           0.12362335,  0.63751081],\n",
       "         [ 0.9760707 ,  0.16970391, -0.10532806, ...,  0.22157406,\n",
       "           0.12362335,  0.63751081],\n",
       "         [ 0.9760707 ,  0.16970391, -0.10532806, ...,  0.22157406,\n",
       "           0.12362335,  0.63751081]],\n",
       " \n",
       "        ...,\n",
       " \n",
       "        [[ 0.98942659,  0.1561682 , -0.15915549, ...,  0.22159857,\n",
       "           0.12334802,  0.63761258],\n",
       "         [ 0.98942659,  0.1561483 , -0.15915549, ...,  0.22159857,\n",
       "           0.12334802,  0.63761258],\n",
       "         [ 0.98942659,  0.1561483 , -0.15915549, ...,  0.22159857,\n",
       "           0.12334802,  0.63761258],\n",
       "         [ 0.98942659,  0.1561483 , -0.15913404, ...,  0.22159857,\n",
       "           0.12334802,  0.63761258]],\n",
       " \n",
       "        [[ 0.98942659,  0.1561483 , -0.15915549, ...,  0.22159857,\n",
       "           0.12334802,  0.63761258],\n",
       "         [ 0.98942659,  0.1561483 , -0.15915549, ...,  0.22159857,\n",
       "           0.12334802,  0.63761258],\n",
       "         [ 0.98942659,  0.1561483 , -0.15913404, ...,  0.22159857,\n",
       "           0.12334802,  0.63761258],\n",
       "         [ 0.98942659,  0.1561682 , -0.15915549, ...,  0.22159857,\n",
       "           0.12334802,  0.63761258]],\n",
       " \n",
       "        [[ 0.98942659,  0.1561483 , -0.15915549, ...,  0.22159857,\n",
       "           0.12334802,  0.63761258],\n",
       "         [ 0.98942659,  0.1561483 , -0.15913404, ...,  0.22159857,\n",
       "           0.12334802,  0.63761258],\n",
       "         [ 0.98942659,  0.1561682 , -0.15915549, ...,  0.22159857,\n",
       "           0.12334802,  0.63761258],\n",
       "         [ 0.98942659,  0.1561483 , -0.15915549, ...,  0.22159857,\n",
       "           0.12334802,  0.63761258]]]),\n",
       " array([[ 0.9760707 ,  0.16970391, -0.10532806, ...,  0.22157406,\n",
       "          0.12362335,  0.63751081],\n",
       "        [ 0.9760707 ,  0.16970391, -0.10532806, ...,  0.22157406,\n",
       "          0.12362335,  0.63751081],\n",
       "        [ 0.9760707 ,  0.16970391, -0.10532806, ...,  0.22157406,\n",
       "          0.12362335,  0.63751081],\n",
       "        ...,\n",
       "        [ 0.98942659,  0.1561682 , -0.15915549, ...,  0.22159857,\n",
       "          0.12334802,  0.63761258],\n",
       "        [ 0.98942659,  0.1561483 , -0.15915549, ...,  0.22159857,\n",
       "          0.12334802,  0.63761258],\n",
       "        [ 0.98942659,  0.1561682 , -0.15915549, ...,  0.22159857,\n",
       "          0.12334802,  0.63761258]]))"
      ]
     },
     "execution_count": 66,
     "metadata": {},
     "output_type": "execute_result"
    }
   ],
   "source": [
    "# 使用训练好的模型网络进行预测\n",
    "adcs_yhat = adcs_model.predict(adcs_X, batch_size=4)\n",
    "adcs_yhat = adcs_yhat.reshape(adcs_yhat.shape[0], adcs_yhat.shape[1])\n",
    "adcs_yhat, adcs_X, adcs_y"
   ]
  },
  {
   "cell_type": "code",
   "execution_count": 67,
   "id": "5488b9e6",
   "metadata": {},
   "outputs": [
    {
     "data": {
      "text/plain": [
       "(array([[ 9.6361035e-01, -1.2688415e-01,  1.7603353e-01, ...,\n",
       "         -5.1704336e-02, -2.4298541e-03, -1.2000498e-02],\n",
       "        [ 9.6360832e-01, -1.2688313e-01,  1.7603081e-01, ...,\n",
       "         -5.1710721e-02, -2.4301843e-03, -1.2001524e-02],\n",
       "        [ 9.6360803e-01, -1.2688313e-01,  1.7603064e-01, ...,\n",
       "         -5.1712971e-02, -2.4303088e-03, -1.2001846e-02],\n",
       "        ...,\n",
       "        [ 9.7860014e-01, -1.2791817e-01,  1.6115865e-01, ...,\n",
       "          1.4387333e-02, -6.5143214e-04,  6.2675239e-03],\n",
       "        [ 9.7860068e-01, -1.2791741e-01,  1.6115880e-01, ...,\n",
       "          1.4390190e-02, -6.5177312e-04,  6.2680510e-03],\n",
       "        [ 9.7860056e-01, -1.2791760e-01,  1.6115883e-01, ...,\n",
       "          1.4387576e-02, -6.5168110e-04,  6.2681977e-03]], dtype=float32),\n",
       " (2426, 14))"
      ]
     },
     "execution_count": 67,
     "metadata": {},
     "output_type": "execute_result"
    }
   ],
   "source": [
    "# 对替换后的inv_yhat预测数据进行逆缩放\n",
    "adcs_inv_yhat = scaler.inverse_transform(adcs_yhat)\n",
    "adcs_inv_yhat, adcs_inv_yhat.shape"
   ]
  },
  {
   "cell_type": "code",
   "execution_count": 68,
   "id": "2c2cfb9f",
   "metadata": {},
   "outputs": [
    {
     "data": {
      "text/plain": [
       "(array([[ 9.7213e-01, -1.2103e-01,  1.8552e-01, ...,  5.0000e-05,\n",
       "         -1.0000e-04,  0.0000e+00],\n",
       "        [ 9.7213e-01, -1.2103e-01,  1.8552e-01, ...,  5.0000e-05,\n",
       "         -1.0000e-04,  0.0000e+00],\n",
       "        [ 9.7213e-01, -1.2103e-01,  1.8552e-01, ...,  5.0000e-05,\n",
       "         -1.0000e-04,  0.0000e+00],\n",
       "        ...,\n",
       "        [ 9.7813e-01, -1.2783e-01,  1.6042e-01, ...,  1.0000e-04,\n",
       "         -1.5000e-04,  5.0000e-05],\n",
       "        [ 9.7813e-01, -1.2784e-01,  1.6042e-01, ...,  1.0000e-04,\n",
       "         -1.5000e-04,  5.0000e-05],\n",
       "        [ 9.7813e-01, -1.2783e-01,  1.6042e-01, ...,  1.0000e-04,\n",
       "         -1.5000e-04,  5.0000e-05]]),\n",
       " (2426, 14))"
      ]
     },
     "execution_count": 68,
     "metadata": {},
     "output_type": "execute_result"
    }
   ],
   "source": [
    "# 对重构后数据进行逆缩放\n",
    "adcs_inv_y = scaler.inverse_transform(adcs_y)\n",
    "adcs_inv_y, adcs_inv_y.shape"
   ]
  },
  {
   "cell_type": "code",
   "execution_count": 69,
   "id": "9be41498",
   "metadata": {},
   "outputs": [
    {
     "name": "stdout",
     "output_type": "stream",
     "text": [
      "发生了故障 21\n"
     ]
    }
   ],
   "source": [
    "adcs_flag = False\n",
    "for i in range(0, 2423, 3):\n",
    "    if ( (abs(adcs_inv_y[i, 0] - adcs_inv_yhat[i, 0]) > 0.2) & (abs(adcs_inv_y[i+1, 0] - adcs_inv_yhat[i+1, 0]) > 0.2) & (abs(adcs_inv_y[i+2, 0] - adcs_inv_yhat[i+2, 0]) > 0.2) ):\n",
    "        adcs_flag = True\n",
    "        break;\n",
    "        \n",
    "\n",
    "if flag:        \n",
    "    print(\"发生了故障\", i)\n",
    "    "
   ]
  },
  {
   "cell_type": "code",
   "execution_count": null,
   "id": "98603602",
   "metadata": {},
   "outputs": [],
   "source": []
  },
  {
   "cell_type": "code",
   "execution_count": 70,
   "id": "00d52796",
   "metadata": {},
   "outputs": [],
   "source": [
    "# 加载数据\n",
    "df_1 = pd.read_csv('./dataset/热控分系统遥测.csv', dtype=object, header=0, index_col=0, parse_dates=[0], squeeze=True, date_parser=parser)\n",
    "raw_1_values = df_1.values"
   ]
  },
  {
   "cell_type": "code",
   "execution_count": 145,
   "id": "df80bdcf",
   "metadata": {},
   "outputs": [
    {
     "data": {
      "text/html": [
       "<div>\n",
       "<style scoped>\n",
       "    .dataframe tbody tr th:only-of-type {\n",
       "        vertical-align: middle;\n",
       "    }\n",
       "\n",
       "    .dataframe tbody tr th {\n",
       "        vertical-align: top;\n",
       "    }\n",
       "\n",
       "    .dataframe thead th {\n",
       "        text-align: right;\n",
       "    }\n",
       "</style>\n",
       "<table border=\"1\" class=\"dataframe\">\n",
       "  <thead>\n",
       "    <tr style=\"text-align: right;\">\n",
       "      <th></th>\n",
       "      <th>A1推力器电磁阀温度</th>\n",
       "      <th>A2推力器电磁阀温度</th>\n",
       "      <th>A3推力器电磁阀温度</th>\n",
       "      <th>A4推力器电磁阀温度</th>\n",
       "      <th>A5推力器电磁阀温度</th>\n",
       "      <th>A6推力器电磁阀温度</th>\n",
       "      <th>A7推力器电磁阀温度</th>\n",
       "      <th>A8推力器电磁阀温度</th>\n",
       "      <th>A1推力器头部温度</th>\n",
       "      <th>A2推力器头部温度</th>\n",
       "      <th>...</th>\n",
       "      <th>天线2X轴旋转关节温度2</th>\n",
       "      <th>天线2Y轴驱动组件温度1</th>\n",
       "      <th>天线2Y轴驱动组件温度2</th>\n",
       "      <th>天线2Y轴旋转关节温度1</th>\n",
       "      <th>天线2Y轴旋转关节温度2</th>\n",
       "      <th>天线2压紧释放装置1温度</th>\n",
       "      <th>SMA中继相控阵T组件温度1</th>\n",
       "      <th>SMA中继相控阵T组件温度2</th>\n",
       "      <th>SMA中继相控阵电源温度1</th>\n",
       "      <th>SMA中继相控阵电源温度2</th>\n",
       "    </tr>\n",
       "  </thead>\n",
       "  <tbody>\n",
       "    <tr>\n",
       "      <th>count</th>\n",
       "      <td>495</td>\n",
       "      <td>495</td>\n",
       "      <td>495</td>\n",
       "      <td>495</td>\n",
       "      <td>495</td>\n",
       "      <td>495</td>\n",
       "      <td>495</td>\n",
       "      <td>495</td>\n",
       "      <td>495</td>\n",
       "      <td>495</td>\n",
       "      <td>...</td>\n",
       "      <td>495</td>\n",
       "      <td>495</td>\n",
       "      <td>495</td>\n",
       "      <td>495</td>\n",
       "      <td>495</td>\n",
       "      <td>495</td>\n",
       "      <td>495</td>\n",
       "      <td>495</td>\n",
       "      <td>495</td>\n",
       "      <td>495</td>\n",
       "    </tr>\n",
       "    <tr>\n",
       "      <th>unique</th>\n",
       "      <td>6</td>\n",
       "      <td>4</td>\n",
       "      <td>5</td>\n",
       "      <td>24</td>\n",
       "      <td>5</td>\n",
       "      <td>5</td>\n",
       "      <td>4</td>\n",
       "      <td>6</td>\n",
       "      <td>17</td>\n",
       "      <td>9</td>\n",
       "      <td>...</td>\n",
       "      <td>21</td>\n",
       "      <td>18</td>\n",
       "      <td>19</td>\n",
       "      <td>23</td>\n",
       "      <td>26</td>\n",
       "      <td>21</td>\n",
       "      <td>20</td>\n",
       "      <td>20</td>\n",
       "      <td>19</td>\n",
       "      <td>19</td>\n",
       "    </tr>\n",
       "    <tr>\n",
       "      <th>top</th>\n",
       "      <td>21.61149</td>\n",
       "      <td>18.02852</td>\n",
       "      <td>23.21341</td>\n",
       "      <td>13.87744</td>\n",
       "      <td>17.08275</td>\n",
       "      <td>18.7375</td>\n",
       "      <td>18.01437</td>\n",
       "      <td>15.31437</td>\n",
       "      <td>55.81307</td>\n",
       "      <td>47.54123</td>\n",
       "      <td>...</td>\n",
       "      <td>-15.1598</td>\n",
       "      <td>-10.08211</td>\n",
       "      <td>-10.08211</td>\n",
       "      <td>-15.1598</td>\n",
       "      <td>-9.7163</td>\n",
       "      <td>-24.96658</td>\n",
       "      <td>-16.8144</td>\n",
       "      <td>-17.25407</td>\n",
       "      <td>-17.70001</td>\n",
       "      <td>-18.15253</td>\n",
       "    </tr>\n",
       "    <tr>\n",
       "      <th>freq</th>\n",
       "      <td>200</td>\n",
       "      <td>313</td>\n",
       "      <td>221</td>\n",
       "      <td>239</td>\n",
       "      <td>203</td>\n",
       "      <td>297</td>\n",
       "      <td>245</td>\n",
       "      <td>161</td>\n",
       "      <td>90</td>\n",
       "      <td>159</td>\n",
       "      <td>...</td>\n",
       "      <td>48</td>\n",
       "      <td>42</td>\n",
       "      <td>38</td>\n",
       "      <td>37</td>\n",
       "      <td>31</td>\n",
       "      <td>106</td>\n",
       "      <td>70</td>\n",
       "      <td>60</td>\n",
       "      <td>69</td>\n",
       "      <td>63</td>\n",
       "    </tr>\n",
       "  </tbody>\n",
       "</table>\n",
       "<p>4 rows × 59 columns</p>\n",
       "</div>"
      ],
      "text/plain": [
       "       A1推力器电磁阀温度 A2推力器电磁阀温度 A3推力器电磁阀温度 A4推力器电磁阀温度 A5推力器电磁阀温度 A6推力器电磁阀温度  \\\n",
       "count         495        495        495        495        495        495   \n",
       "unique          6          4          5         24          5          5   \n",
       "top      21.61149   18.02852   23.21341   13.87744   17.08275    18.7375   \n",
       "freq          200        313        221        239        203        297   \n",
       "\n",
       "       A7推力器电磁阀温度 A8推力器电磁阀温度 A1推力器头部温度 A2推力器头部温度  ... 天线2X轴旋转关节温度2  \\\n",
       "count         495        495       495       495  ...          495   \n",
       "unique          4          6        17         9  ...           21   \n",
       "top      18.01437   15.31437  55.81307  47.54123  ...     -15.1598   \n",
       "freq          245        161        90       159  ...           48   \n",
       "\n",
       "       天线2Y轴驱动组件温度1 天线2Y轴驱动组件温度2 天线2Y轴旋转关节温度1 天线2Y轴旋转关节温度2 天线2压紧释放装置1温度  \\\n",
       "count           495          495          495          495          495   \n",
       "unique           18           19           23           26           21   \n",
       "top       -10.08211    -10.08211     -15.1598      -9.7163    -24.96658   \n",
       "freq             42           38           37           31          106   \n",
       "\n",
       "       SMA中继相控阵T组件温度1 SMA中继相控阵T组件温度2 SMA中继相控阵电源温度1 SMA中继相控阵电源温度2  \n",
       "count             495            495           495           495  \n",
       "unique             20             20            19            19  \n",
       "top          -16.8144      -17.25407     -17.70001     -18.15253  \n",
       "freq               70             60            69            63  \n",
       "\n",
       "[4 rows x 59 columns]"
      ]
     },
     "execution_count": 145,
     "metadata": {},
     "output_type": "execute_result"
    }
   ],
   "source": [
    "df_1.describe()"
   ]
  },
  {
   "cell_type": "code",
   "execution_count": 71,
   "id": "2851c82b",
   "metadata": {},
   "outputs": [
    {
     "data": {
      "text/plain": [
       "((350, 59), (145, 59))"
      ]
     },
     "execution_count": 71,
     "metadata": {},
     "output_type": "execute_result"
    }
   ],
   "source": [
    "temp_x1, temp_x2 = split_dataset(raw_1_values, seq_len=100)\n",
    "temp_x1.shape, temp_x2.shape"
   ]
  },
  {
   "cell_type": "code",
   "execution_count": 72,
   "id": "0fa8f4c8",
   "metadata": {},
   "outputs": [],
   "source": [
    "# 将所有数据缩放到[-1, 1]之间\n",
    "temp_scaler, temp_scaled_values = scale(temp_x1)"
   ]
  },
  {
   "cell_type": "code",
   "execution_count": 91,
   "id": "5be67e0d",
   "metadata": {},
   "outputs": [],
   "source": [
    "# 加载数据\n",
    "df_temp = pd.read_csv('./dataset/热控分系统遥测-测试.csv', dtype=object, header=0, index_col=0, parse_dates=[0], squeeze=True, date_parser=parser)\n",
    "temp_values = df_temp.values"
   ]
  },
  {
   "cell_type": "code",
   "execution_count": 92,
   "id": "f267bd34",
   "metadata": {},
   "outputs": [
    {
     "data": {
      "text/plain": [
       "(array([[-0.492602  , -0.32517543,  0.00793624, ...,  0.0169176 ,\n",
       "          0.2856083 ,  0.06883585],\n",
       "        [-0.492602  , -0.32517543,  0.00793624, ...,  0.12109093,\n",
       "          0.2856083 ,  0.17801586],\n",
       "        [-0.492602  , -0.32517543,  0.00793624, ...,  0.12109093,\n",
       "          0.2856083 ,  0.17801586],\n",
       "        ...,\n",
       "        [-0.492602  , -0.32517543, -0.49395895, ...,  0.52379139,\n",
       "          0.59958405,  0.59958405],\n",
       "        [-0.492602  , -0.32517543, -0.49395895, ...,  0.52379139,\n",
       "          0.59958405,  0.59958405],\n",
       "        [-0.492602  , -0.32517543, -0.49395895, ...,  0.62127197,\n",
       "          0.70152592,  0.59958405]]),\n",
       " (145, 59))"
      ]
     },
     "execution_count": 92,
     "metadata": {},
     "output_type": "execute_result"
    }
   ],
   "source": [
    "# 将所有数据缩放到[-1, 1]之间\n",
    "temp_scaled_values = temp_scaler.transform(temp_values)\n",
    "temp_scaled_values, temp_scaled_values.shape"
   ]
  },
  {
   "cell_type": "code",
   "execution_count": 93,
   "id": "7f96aa41",
   "metadata": {},
   "outputs": [
    {
     "data": {
      "text/plain": [
       "(array([[-0.492602  , -0.32517543,  0.00793624, ...,  0.12109093,\n",
       "          0.2856083 ,  0.17801586],\n",
       "        [-0.492602  , -0.32517543,  0.00793624, ...,  0.22379957,\n",
       "          0.39168797,  0.2856083 ],\n",
       "        [-0.492602  , -0.32517543,  0.00793624, ...,  0.32511125,\n",
       "          0.39168797,  0.2856083 ],\n",
       "        ...,\n",
       "        [-0.492602  , -0.32517543, -1.        , ...,  0.52379139,\n",
       "          0.59958405,  0.59958405],\n",
       "        [-0.492602  , -0.32517543, -1.        , ...,  0.52379139,\n",
       "          0.59958405,  0.59958405],\n",
       "        [-0.492602  , -0.32517543, -0.49395895, ...,  0.62127197,\n",
       "          0.70152592,  0.59958405]]),\n",
       " (143, 177))"
      ]
     },
     "execution_count": 93,
     "metadata": {},
     "output_type": "execute_result"
    }
   ],
   "source": [
    "# 将数据转换为监督学习型数据\n",
    "temp_supervised = timeseries_to_supervised(temp_scaled_values, 2, 1)\n",
    "temp_supervised_values = temp_supervised.values\n",
    "temp_supervised_values, temp_supervised_values.shape"
   ]
  },
  {
   "cell_type": "code",
   "execution_count": 94,
   "id": "109e14bf",
   "metadata": {},
   "outputs": [
    {
     "data": {
      "text/plain": [
       "((143, 118), (143, 59))"
      ]
     },
     "execution_count": 94,
     "metadata": {},
     "output_type": "execute_result"
    }
   ],
   "source": [
    "# 目标值和特征值\n",
    "temp_X, temp_y = temp_supervised_values[:, :2*n_temp_features], temp_supervised_values[:, 2*n_temp_features:]\n",
    "temp_X.shape, temp_y.shape"
   ]
  },
  {
   "cell_type": "code",
   "execution_count": 95,
   "id": "e8ab661e",
   "metadata": {},
   "outputs": [
    {
     "data": {
      "text/plain": [
       "((143, 2, 59), (143, 59))"
      ]
     },
     "execution_count": 95,
     "metadata": {},
     "output_type": "execute_result"
    }
   ],
   "source": [
    "# 将输入数据转换成3维张量[samples, timesteps, features], [1次批量n条数据， 每条数据2个步长，59个特征值]\n",
    "temp_X = temp_X.reshape((temp_X.shape[0], 2, n_temp_features))\n",
    "temp_X.shape, temp_y.shape"
   ]
  },
  {
   "cell_type": "code",
   "execution_count": 96,
   "id": "bfa65d96",
   "metadata": {},
   "outputs": [
    {
     "data": {
      "text/plain": [
       "(array([[-0.30861974, -0.5442035 , -0.5736587 , ...,  0.21893057,\n",
       "          0.22984335,  0.21162108],\n",
       "        [-0.15719849, -0.9933389 ,  0.39980817, ...,  0.4001974 ,\n",
       "          0.424253  ,  0.39087093],\n",
       "        [-0.1562882 , -0.5061866 , -0.33297694, ...,  0.3309559 ,\n",
       "          0.32578298,  0.19392231],\n",
       "        ...,\n",
       "        [-0.68715   , -0.55093396, -0.88266975, ...,  0.02561945,\n",
       "          0.365817  , -0.09634623],\n",
       "        [-0.70338935, -0.17147043, -0.41708478, ...,  0.06786399,\n",
       "          0.20394543,  0.13085476],\n",
       "        [-0.85914797, -0.308613  , -0.5611714 , ...,  0.47893047,\n",
       "          0.5274725 ,  0.5413827 ]], dtype=float32),\n",
       " array([[[-0.492602  , -0.32517543,  0.00793624, ...,  0.0169176 ,\n",
       "           0.2856083 ,  0.06883585],\n",
       "         [-0.492602  , -0.32517543,  0.00793624, ...,  0.12109093,\n",
       "           0.2856083 ,  0.17801586]],\n",
       " \n",
       "        [[-0.492602  , -0.32517543,  0.00793624, ...,  0.12109093,\n",
       "           0.2856083 ,  0.17801586],\n",
       "         [-0.492602  , -0.32517543,  0.00793624, ...,  0.12109093,\n",
       "           0.2856083 ,  0.17801586]],\n",
       " \n",
       "        [[-0.492602  , -0.32517543,  0.00793624, ...,  0.12109093,\n",
       "           0.2856083 ,  0.17801586],\n",
       "         [-0.492602  , -1.        ,  0.00793624, ...,  0.22379957,\n",
       "           0.39168797,  0.2856083 ]],\n",
       " \n",
       "        ...,\n",
       " \n",
       "        [[-0.492602  , -0.32517543, -1.        , ..., -0.52856392,\n",
       "          -0.38536908, -0.5037584 ],\n",
       "         [-0.492602  , -0.32517543, -1.        , ..., -0.52856392,\n",
       "          -0.38536908, -0.5037584 ]],\n",
       " \n",
       "        [[-0.492602  , -0.32517543, -1.        , ..., -0.52856392,\n",
       "          -0.38536908, -0.5037584 ],\n",
       "         [-0.492602  , -0.32517543, -0.49395895, ...,  0.52379139,\n",
       "           0.59958405,  0.59958405]],\n",
       " \n",
       "        [[-0.492602  , -0.32517543, -0.49395895, ...,  0.52379139,\n",
       "           0.59958405,  0.59958405],\n",
       "         [-0.492602  , -0.32517543, -0.49395895, ...,  0.52379139,\n",
       "           0.59958405,  0.59958405]]]),\n",
       " array([[-0.492602  , -0.32517543,  0.00793624, ...,  0.12109093,\n",
       "          0.2856083 ,  0.17801586],\n",
       "        [-0.492602  , -1.        ,  0.00793624, ...,  0.22379957,\n",
       "          0.39168797,  0.2856083 ],\n",
       "        [-0.492602  , -1.        ,  0.00793624, ...,  0.32511125,\n",
       "          0.39168797,  0.2856083 ],\n",
       "        ...,\n",
       "        [-0.492602  , -0.32517543, -0.49395895, ...,  0.52379139,\n",
       "          0.59958405,  0.59958405],\n",
       "        [-0.492602  , -0.32517543, -0.49395895, ...,  0.52379139,\n",
       "          0.59958405,  0.59958405],\n",
       "        [-0.492602  , -0.32517543, -0.49395895, ...,  0.62127197,\n",
       "          0.70152592,  0.59958405]]))"
      ]
     },
     "execution_count": 96,
     "metadata": {},
     "output_type": "execute_result"
    }
   ],
   "source": [
    "# 使用训练好的模型网络进行预测\n",
    "temp_yhat = temp_model.predict(temp_X, batch_size=2)\n",
    "temp_yhat = temp_yhat.reshape(temp_yhat.shape[0], temp_yhat.shape[1])\n",
    "temp_yhat, temp_X, temp_y"
   ]
  },
  {
   "cell_type": "code",
   "execution_count": 97,
   "id": "ec55a91e",
   "metadata": {},
   "outputs": [
    {
     "data": {
      "text/plain": [
       "(array([[ 21.87212 ,  17.781782,  23.10691 , ..., -16.835243, -17.4852  ,\n",
       "         -17.560726],\n",
       "        [ 22.086622,  17.275824,  24.40773 , ..., -16.059286, -16.679426,\n",
       "         -16.817787],\n",
       "        [ 22.087912,  17.824608,  23.428526, ..., -16.35569 , -17.087557,\n",
       "         -17.634083],\n",
       "        ...,\n",
       "        [ 21.335894,  17.7742  ,  22.693987, ..., -17.66276 , -16.921627,\n",
       "         -18.837162],\n",
       "        [ 21.31289 ,  18.201672,  23.316133, ..., -17.481922, -17.59254 ,\n",
       "         -17.89548 ],\n",
       "        [ 21.092241,  18.047176,  23.123594, ..., -15.722248, -16.251612,\n",
       "         -16.193958]], dtype=float32),\n",
       " (143, 59))"
      ]
     },
     "execution_count": 97,
     "metadata": {},
     "output_type": "execute_result"
    }
   ],
   "source": [
    "# 对替换后的inv_yhat预测数据进行逆缩放\n",
    "temp_inv_yhat = temp_scaler.inverse_transform(temp_yhat)\n",
    "temp_inv_yhat, temp_inv_yhat.shape"
   ]
  },
  {
   "cell_type": "code",
   "execution_count": 98,
   "id": "18a71fa5",
   "metadata": {},
   "outputs": [
    {
     "data": {
      "text/plain": [
       "(array([[ 21.61149,  18.02852,  23.88408, ..., -17.25407, -17.25407,\n",
       "         -17.70001],\n",
       "        [ 21.61149,  17.26832,  23.88408, ..., -16.8144 , -16.8144 ,\n",
       "         -17.25407],\n",
       "        [ 21.61149,  17.26832,  23.88408, ..., -16.38071, -16.8144 ,\n",
       "         -17.25407],\n",
       "        ...,\n",
       "        [ 21.61149,  18.02852,  23.21341, ..., -15.53021, -15.95273,\n",
       "         -15.95273],\n",
       "        [ 21.61149,  18.02852,  23.21341, ..., -15.53021, -15.95273,\n",
       "         -15.95273],\n",
       "        [ 21.61149,  18.02852,  23.21341, ..., -15.11292, -15.53021,\n",
       "         -15.95273]]),\n",
       " (143, 59))"
      ]
     },
     "execution_count": 98,
     "metadata": {},
     "output_type": "execute_result"
    }
   ],
   "source": [
    "# 对重构后数据进行逆缩放\n",
    "temp_inv_y = temp_scaler.inverse_transform(temp_y)\n",
    "temp_inv_y, temp_inv_y.shape"
   ]
  },
  {
   "cell_type": "code",
   "execution_count": 100,
   "id": "5fd7aeca",
   "metadata": {},
   "outputs": [
    {
     "name": "stdout",
     "output_type": "stream",
     "text": [
      "发生了故障 18\n"
     ]
    }
   ],
   "source": [
    "temp_flag = False\n",
    "for i in range(0, 140, 3):\n",
    "    if ( (abs(temp_inv_y[i, 1] - temp_inv_yhat[i, 1]) > 2) & (abs(temp_inv_y[i+1, 1] - temp_inv_yhat[i+1, 1]) > 2) & (abs(temp_inv_y[i+2, 1] - temp_inv_yhat[i+2, 1]) > 2) ):\n",
    "        temp_flag = True\n",
    "        break;\n",
    "        \n",
    "\n",
    "if temp_flag:        \n",
    "    print(\"发生了故障\", i)\n",
    "else:\n",
    "    print(\"无故障\")"
   ]
  },
  {
   "cell_type": "code",
   "execution_count": null,
   "id": "5343022b",
   "metadata": {},
   "outputs": [],
   "source": []
  },
  {
   "cell_type": "code",
   "execution_count": 111,
   "id": "db45fbd4",
   "metadata": {},
   "outputs": [],
   "source": [
    "# 加载数据\n",
    "df_2 = pd.read_csv('./dataset/电源分系统遥测.csv', dtype=object, header=0, index_col=0, parse_dates=[0], squeeze=True, date_parser=parser)\n",
    "raw_2_values = df_2.values"
   ]
  },
  {
   "cell_type": "code",
   "execution_count": 112,
   "id": "379fceca",
   "metadata": {},
   "outputs": [
    {
     "data": {
      "text/plain": [
       "((5782, 41), (2460, 41))"
      ]
     },
     "execution_count": 112,
     "metadata": {},
     "output_type": "execute_result"
    }
   ],
   "source": [
    "elec_x1, elec_x2 = split_dataset(raw_2_values, seq_len=100)\n",
    "elec_x1.shape, elec_x2.shape"
   ]
  },
  {
   "cell_type": "code",
   "execution_count": 113,
   "id": "d1be496d",
   "metadata": {},
   "outputs": [],
   "source": [
    "# 将所有数据缩放到[-1, 1]之间\n",
    "elec_scaler, elec_scaled_values = scale(elec_x1)"
   ]
  },
  {
   "cell_type": "code",
   "execution_count": 135,
   "id": "af384877",
   "metadata": {},
   "outputs": [],
   "source": [
    "# 加载数据\n",
    "df_elec = pd.read_csv('./dataset/电源分系统遥测-测试.csv', dtype=object, header=0, index_col=0, parse_dates=[0], squeeze=True, date_parser=parser)\n",
    "elec_values = df_elec.values"
   ]
  },
  {
   "cell_type": "code",
   "execution_count": 136,
   "id": "0dce293f",
   "metadata": {},
   "outputs": [
    {
     "data": {
      "text/plain": [
       "(array([[ 0.91665624,  0.91303212,  0.96262508, ..., -0.92207766,\n",
       "         -0.92405087, -0.92405087],\n",
       "        [ 0.91665624,  0.91303212,  0.98131254, ..., -0.92207766,\n",
       "         -0.92405087, -0.92405087],\n",
       "        [ 0.91665624,  0.91303212,  0.96262508, ..., -0.92207766,\n",
       "         -0.92405087, -0.92405087],\n",
       "        ...,\n",
       "        [ 0.83333333,  0.86955907,  0.92524076, ..., -0.92207766,\n",
       "         -0.92405087, -0.92405087],\n",
       "        [ 0.87499478,  0.86955907,  0.92524076, ..., -0.92207766,\n",
       "         -0.92405087, -0.92405087],\n",
       "        [ 0.87499478,  0.91303212,  0.96262508, ..., -0.92207766,\n",
       "         -0.92405087, -0.92405087]]),\n",
       " (2460, 41))"
      ]
     },
     "execution_count": 136,
     "metadata": {},
     "output_type": "execute_result"
    }
   ],
   "source": [
    "# 将所有数据缩放到[-1, 1]之间\n",
    "elec_scaled_values = elec_scaler.transform(elec_values)\n",
    "elec_scaled_values, elec_scaled_values.shape"
   ]
  },
  {
   "cell_type": "code",
   "execution_count": 137,
   "id": "23c4135c",
   "metadata": {},
   "outputs": [
    {
     "data": {
      "text/plain": [
       "(array([[ 0.91665624,  0.91303212,  0.96262508, ..., -0.92207766,\n",
       "         -0.92405087, -0.92405087],\n",
       "        [ 0.91665624,  0.91303212,  0.98131254, ..., -0.92207766,\n",
       "         -0.92405087, -0.92405087],\n",
       "        [ 0.91665624,  0.91303212,  0.96262508, ..., -0.92207766,\n",
       "         -0.92405087, -0.92405087],\n",
       "        ...,\n",
       "        [ 0.91665624,  0.91303212,  0.94392822, ..., -0.92207766,\n",
       "         -0.92405087, -0.92405087],\n",
       "        [ 0.83333333,  0.86955907,  0.92524076, ..., -0.92207766,\n",
       "         -0.92405087, -0.92405087],\n",
       "        [ 0.87499478,  0.86955907,  0.92524076, ..., -0.92207766,\n",
       "         -0.92405087, -0.92405087]]),\n",
       " (2459, 82))"
      ]
     },
     "execution_count": 137,
     "metadata": {},
     "output_type": "execute_result"
    }
   ],
   "source": [
    "# 将数据转换为监督学习型数据\n",
    "elec_supervised = timeseries_to_supervised(elec_scaled_values, 1, 1)\n",
    "elec_supervised_values = elec_supervised.values\n",
    "elec_supervised_values, elec_supervised_values.shape"
   ]
  },
  {
   "cell_type": "code",
   "execution_count": 138,
   "id": "d111bcbf",
   "metadata": {},
   "outputs": [
    {
     "data": {
      "text/plain": [
       "((2459, 41), (2459, 41))"
      ]
     },
     "execution_count": 138,
     "metadata": {},
     "output_type": "execute_result"
    }
   ],
   "source": [
    "# 目标值和特征值\n",
    "elec_X, elec_y = elec_supervised_values[:, :n_elec_features], elec_supervised_values[:, n_elec_features:]\n",
    "elec_X.shape, elec_y.shape"
   ]
  },
  {
   "cell_type": "code",
   "execution_count": 139,
   "id": "83f8340b",
   "metadata": {},
   "outputs": [
    {
     "data": {
      "text/plain": [
       "((2459, 1, 41), (2459, 41))"
      ]
     },
     "execution_count": 139,
     "metadata": {},
     "output_type": "execute_result"
    }
   ],
   "source": [
    "# 将输入数据转换成3维张量[samples, timesteps, features], [1次批量n条数据， 每条数据1个步长，41个特征值]\n",
    "elec_X = elec_X.reshape((elec_X.shape[0], 1, n_elec_features))\n",
    "elec_X.shape, elec_y.shape"
   ]
  },
  {
   "cell_type": "code",
   "execution_count": 140,
   "id": "5595a970",
   "metadata": {},
   "outputs": [
    {
     "data": {
      "text/plain": [
       "(array([[ 0.8498047 ,  0.8483073 ,  0.9286048 , ..., -0.93956584,\n",
       "         -0.9382103 , -0.9317896 ],\n",
       "        [ 0.85224575,  0.84435827,  0.9258868 , ..., -0.931466  ,\n",
       "         -0.9291757 , -0.92987853],\n",
       "        [ 0.8536474 ,  0.84164137,  0.9223487 , ..., -0.916823  ,\n",
       "         -0.9220125 , -0.929416  ],\n",
       "        ...,\n",
       "        [ 0.887428  ,  0.8870223 ,  0.9536714 , ..., -0.9331371 ,\n",
       "         -0.9340673 , -0.936586  ],\n",
       "        [ 0.8622785 ,  0.8525402 ,  0.92981976, ..., -0.92423534,\n",
       "         -0.9279825 , -0.9340968 ],\n",
       "        [ 0.8910262 ,  0.9276243 ,  1.0211577 , ..., -0.9601783 ,\n",
       "         -0.9479173 , -0.94264126]], dtype=float32),\n",
       " array([[[ 0.91665624,  0.91303212,  0.96262508, ..., -0.92207766,\n",
       "          -0.92405087, -0.92405087]],\n",
       " \n",
       "        [[ 0.91665624,  0.91303212,  0.98131254, ..., -0.92207766,\n",
       "          -0.92405087, -0.92405087]],\n",
       " \n",
       "        [[ 0.91665624,  0.91303212,  0.96262508, ..., -0.92207766,\n",
       "          -0.92405087, -0.92405087]],\n",
       " \n",
       "        ...,\n",
       " \n",
       "        [[ 0.91665624,  0.91303212,  0.94392822, ..., -0.92207766,\n",
       "          -0.92405087, -0.92405087]],\n",
       " \n",
       "        [[ 0.83333333,  0.86955907,  0.92524076, ..., -0.92207766,\n",
       "          -0.92405087, -0.92405087]],\n",
       " \n",
       "        [[ 0.87499478,  0.86955907,  0.92524076, ..., -0.92207766,\n",
       "          -0.92405087, -0.92405087]]]),\n",
       " array([[ 0.91665624,  0.91303212,  0.98131254, ..., -0.92207766,\n",
       "         -0.92405087, -0.92405087],\n",
       "        [ 0.91665624,  0.91303212,  0.96262508, ..., -0.92207766,\n",
       "         -0.92405087, -0.92405087],\n",
       "        [ 0.91665624,  0.91303212,  0.98131254, ..., -0.92207766,\n",
       "         -0.92405087, -0.92405087],\n",
       "        ...,\n",
       "        [ 0.83333333,  0.86955907,  0.92524076, ..., -0.92207766,\n",
       "         -0.92405087, -0.92405087],\n",
       "        [ 0.87499478,  0.86955907,  0.92524076, ..., -0.92207766,\n",
       "         -0.92405087, -0.92405087],\n",
       "        [ 0.87499478,  0.91303212,  0.96262508, ..., -0.92207766,\n",
       "         -0.92405087, -0.92405087]]))"
      ]
     },
     "execution_count": 140,
     "metadata": {},
     "output_type": "execute_result"
    }
   ],
   "source": [
    "# 使用训练好的模型网络进行预测\n",
    "elec_yhat = elec_model.predict(elec_X, batch_size=1)\n",
    "elec_yhat = elec_yhat.reshape(elec_yhat.shape[0], elec_yhat.shape[1])\n",
    "elec_yhat, elec_X, elec_y"
   ]
  },
  {
   "cell_type": "code",
   "execution_count": 141,
   "id": "84d05234",
   "metadata": {},
   "outputs": [
    {
     "data": {
      "text/plain": [
       "(array([[32.95928   , 32.968586  , 32.688717  , ...,  0.92970866,\n",
       "          0.8924161 ,  1.0172033 ],\n",
       "        [32.960445  , 32.966774  , 32.68583   , ...,  1.0594085 ,\n",
       "          1.0398625 ,  1.0483917 ],\n",
       "        [32.961117  , 32.965527  , 32.682064  , ...,  1.2938803 ,\n",
       "          1.1567664 ,  1.0559404 ],\n",
       "        ...,\n",
       "        [32.97731   , 32.986374  , 32.71537   , ...,  1.0326493 ,\n",
       "          0.96003044,  0.9389247 ],\n",
       "        [32.965256  , 32.97053   , 32.69001   , ...,  1.1751899 ,\n",
       "          1.0593351 ,  0.97954893],\n",
       "        [32.979034  , 33.005024  , 32.787125  , ...,  0.59964913,\n",
       "          0.733997  ,  0.84010243]], dtype=float32),\n",
       " (2459, 41))"
      ]
     },
     "execution_count": 141,
     "metadata": {},
     "output_type": "execute_result"
    }
   ],
   "source": [
    "# 对替换后的inv_yhat预测数据进行逆缩放\n",
    "elec_inv_yhat = elec_scaler.inverse_transform(elec_yhat)\n",
    "elec_inv_yhat, elec_inv_yhat.shape"
   ]
  },
  {
   "cell_type": "code",
   "execution_count": 142,
   "id": "223b7f59",
   "metadata": {},
   "outputs": [
    {
     "data": {
      "text/plain": [
       "(array([[32.99132, 32.99832, 32.74476, ...,  1.20974,  1.1235 ,  1.1435 ],\n",
       "        [32.99132, 32.99832, 32.72489, ...,  1.20974,  1.1235 ,  1.1435 ],\n",
       "        [32.99132, 32.99832, 32.74476, ...,  1.20974,  1.1235 ,  1.1435 ],\n",
       "        ...,\n",
       "        [32.95138, 32.97835, 32.68514, ...,  1.20974,  1.1235 ,  1.1435 ],\n",
       "        [32.97135, 32.97835, 32.68514, ...,  1.20974,  1.1235 ,  1.1435 ],\n",
       "        [32.97135, 32.99832, 32.72489, ...,  1.20974,  1.1235 ,  1.1435 ]]),\n",
       " (2459, 41))"
      ]
     },
     "execution_count": 142,
     "metadata": {},
     "output_type": "execute_result"
    }
   ],
   "source": [
    "# 对重构后数据进行逆缩放\n",
    "elec_inv_y = elec_scaler.inverse_transform(elec_y)\n",
    "elec_inv_y, elec_inv_y.shape"
   ]
  },
  {
   "cell_type": "code",
   "execution_count": 143,
   "id": "a79421f1",
   "metadata": {},
   "outputs": [
    {
     "name": "stdout",
     "output_type": "stream",
     "text": [
      "发生了故障 63\n"
     ]
    }
   ],
   "source": [
    "elec_flag = False\n",
    "for i in range(0, 2456, 3):\n",
    "    if ( (abs(elec_inv_y[i, 0] - elec_inv_yhat[i, 0]) > 2) & (abs(elec_inv_y[i+1, 0] - elec_inv_yhat[i+1, 0]) > 2) & (abs(elec_inv_y[i+2, 0] - elec_inv_yhat[i+2, 0]) > 2) ):\n",
    "        elec_flag = True\n",
    "        break;\n",
    "        \n",
    "\n",
    "if elec_flag:        \n",
    "    print(\"发生了故障\", i)\n",
    "else:\n",
    "    print(\"无故障\")"
   ]
  },
  {
   "cell_type": "code",
   "execution_count": null,
   "id": "e5f87fcf",
   "metadata": {},
   "outputs": [],
   "source": []
  }
 ],
 "metadata": {
  "kernelspec": {
   "display_name": "Python 3",
   "language": "python",
   "name": "python3"
  },
  "language_info": {
   "codemirror_mode": {
    "name": "ipython",
    "version": 3
   },
   "file_extension": ".py",
   "mimetype": "text/x-python",
   "name": "python",
   "nbconvert_exporter": "python",
   "pygments_lexer": "ipython3",
   "version": "3.8.8"
  }
 },
 "nbformat": 4,
 "nbformat_minor": 5
}
